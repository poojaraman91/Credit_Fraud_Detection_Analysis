{
 "cells": [
  {
   "cell_type": "markdown",
   "metadata": {},
   "source": [
    "## Credit Card Fraud Detection Analysis\n",
    "\n",
    "#### Exploratory Data Analysis to understand impact of different features on Fraud Transactions"
   ]
  },
  {
   "cell_type": "code",
   "execution_count": null,
   "metadata": {},
   "outputs": [],
   "source": [
    "#Importing libraries\n",
    "import pandas as pd\n",
    "import numpy as np\n",
    "import matplotlib.pyplot as plt\n",
    "%matplotlib inline"
   ]
  },
  {
   "cell_type": "code",
   "execution_count": 2,
   "metadata": {},
   "outputs": [
    {
     "data": {
      "text/html": [
       "<div>\n",
       "<style scoped>\n",
       "    .dataframe tbody tr th:only-of-type {\n",
       "        vertical-align: middle;\n",
       "    }\n",
       "\n",
       "    .dataframe tbody tr th {\n",
       "        vertical-align: top;\n",
       "    }\n",
       "\n",
       "    .dataframe thead th {\n",
       "        text-align: right;\n",
       "    }\n",
       "</style>\n",
       "<table border=\"1\" class=\"dataframe\">\n",
       "  <thead>\n",
       "    <tr style=\"text-align: right;\">\n",
       "      <th></th>\n",
       "      <th>Unnamed: 0</th>\n",
       "      <th>trans_date_trans_time</th>\n",
       "      <th>cc_num</th>\n",
       "      <th>merchant</th>\n",
       "      <th>category</th>\n",
       "      <th>amt</th>\n",
       "      <th>first</th>\n",
       "      <th>last</th>\n",
       "      <th>gender</th>\n",
       "      <th>street</th>\n",
       "      <th>...</th>\n",
       "      <th>lat</th>\n",
       "      <th>long</th>\n",
       "      <th>city_pop</th>\n",
       "      <th>job</th>\n",
       "      <th>dob</th>\n",
       "      <th>trans_num</th>\n",
       "      <th>unix_time</th>\n",
       "      <th>merch_lat</th>\n",
       "      <th>merch_long</th>\n",
       "      <th>is_fraud</th>\n",
       "    </tr>\n",
       "  </thead>\n",
       "  <tbody>\n",
       "    <tr>\n",
       "      <th>0</th>\n",
       "      <td>0</td>\n",
       "      <td>1/1/2019 0:00</td>\n",
       "      <td>2.703190e+15</td>\n",
       "      <td>fraud_Rippin, Kub and Mann</td>\n",
       "      <td>misc_net</td>\n",
       "      <td>4.97</td>\n",
       "      <td>Jennifer</td>\n",
       "      <td>Banks</td>\n",
       "      <td>F</td>\n",
       "      <td>561 Perry Cove</td>\n",
       "      <td>...</td>\n",
       "      <td>36.0788</td>\n",
       "      <td>-81.1781</td>\n",
       "      <td>3495</td>\n",
       "      <td>Psychologist, counselling</td>\n",
       "      <td>3/9/1988</td>\n",
       "      <td>0b242abb623afc578575680df30655b9</td>\n",
       "      <td>1325376018</td>\n",
       "      <td>36.011293</td>\n",
       "      <td>-82.048315</td>\n",
       "      <td>0</td>\n",
       "    </tr>\n",
       "    <tr>\n",
       "      <th>1</th>\n",
       "      <td>1</td>\n",
       "      <td>1/1/2019 0:00</td>\n",
       "      <td>6.304230e+11</td>\n",
       "      <td>fraud_Heller, Gutmann and Zieme</td>\n",
       "      <td>grocery_pos</td>\n",
       "      <td>107.23</td>\n",
       "      <td>Stephanie</td>\n",
       "      <td>Gill</td>\n",
       "      <td>F</td>\n",
       "      <td>43039 Riley Greens Suite 393</td>\n",
       "      <td>...</td>\n",
       "      <td>48.8878</td>\n",
       "      <td>-118.2105</td>\n",
       "      <td>149</td>\n",
       "      <td>Special educational needs teacher</td>\n",
       "      <td>6/21/1978</td>\n",
       "      <td>1f76529f8574734946361c461b024d99</td>\n",
       "      <td>1325376044</td>\n",
       "      <td>49.159047</td>\n",
       "      <td>-118.186462</td>\n",
       "      <td>0</td>\n",
       "    </tr>\n",
       "    <tr>\n",
       "      <th>2</th>\n",
       "      <td>2</td>\n",
       "      <td>1/1/2019 0:00</td>\n",
       "      <td>3.885950e+13</td>\n",
       "      <td>fraud_Lind-Buckridge</td>\n",
       "      <td>entertainment</td>\n",
       "      <td>220.11</td>\n",
       "      <td>Edward</td>\n",
       "      <td>Sanchez</td>\n",
       "      <td>M</td>\n",
       "      <td>594 White Dale Suite 530</td>\n",
       "      <td>...</td>\n",
       "      <td>42.1808</td>\n",
       "      <td>-112.2620</td>\n",
       "      <td>4154</td>\n",
       "      <td>Nature conservation officer</td>\n",
       "      <td>1/19/1962</td>\n",
       "      <td>a1a22d70485983eac12b5b88dad1cf95</td>\n",
       "      <td>1325376051</td>\n",
       "      <td>43.150704</td>\n",
       "      <td>-112.154481</td>\n",
       "      <td>0</td>\n",
       "    </tr>\n",
       "    <tr>\n",
       "      <th>3</th>\n",
       "      <td>3</td>\n",
       "      <td>1/1/2019 0:01</td>\n",
       "      <td>3.534090e+15</td>\n",
       "      <td>fraud_Kutch, Hermiston and Farrell</td>\n",
       "      <td>gas_transport</td>\n",
       "      <td>45.00</td>\n",
       "      <td>Jeremy</td>\n",
       "      <td>White</td>\n",
       "      <td>M</td>\n",
       "      <td>9443 Cynthia Court Apt. 038</td>\n",
       "      <td>...</td>\n",
       "      <td>46.2306</td>\n",
       "      <td>-112.1138</td>\n",
       "      <td>1939</td>\n",
       "      <td>Patent attorney</td>\n",
       "      <td>1/12/1967</td>\n",
       "      <td>6b849c168bdad6f867558c3793159a81</td>\n",
       "      <td>1325376076</td>\n",
       "      <td>47.034331</td>\n",
       "      <td>-112.561071</td>\n",
       "      <td>0</td>\n",
       "    </tr>\n",
       "    <tr>\n",
       "      <th>4</th>\n",
       "      <td>4</td>\n",
       "      <td>1/1/2019 0:03</td>\n",
       "      <td>3.755340e+14</td>\n",
       "      <td>fraud_Keeling-Crist</td>\n",
       "      <td>misc_pos</td>\n",
       "      <td>41.96</td>\n",
       "      <td>Tyler</td>\n",
       "      <td>Garcia</td>\n",
       "      <td>M</td>\n",
       "      <td>408 Bradley Rest</td>\n",
       "      <td>...</td>\n",
       "      <td>38.4207</td>\n",
       "      <td>-79.4629</td>\n",
       "      <td>99</td>\n",
       "      <td>Dance movement psychotherapist</td>\n",
       "      <td>3/28/1986</td>\n",
       "      <td>a41d7549acf90789359a9aa5346dcb46</td>\n",
       "      <td>1325376186</td>\n",
       "      <td>38.674999</td>\n",
       "      <td>-78.632459</td>\n",
       "      <td>0</td>\n",
       "    </tr>\n",
       "  </tbody>\n",
       "</table>\n",
       "<p>5 rows × 23 columns</p>\n",
       "</div>"
      ],
      "text/plain": [
       "   Unnamed: 0 trans_date_trans_time        cc_num  \\\n",
       "0           0         1/1/2019 0:00  2.703190e+15   \n",
       "1           1         1/1/2019 0:00  6.304230e+11   \n",
       "2           2         1/1/2019 0:00  3.885950e+13   \n",
       "3           3         1/1/2019 0:01  3.534090e+15   \n",
       "4           4         1/1/2019 0:03  3.755340e+14   \n",
       "\n",
       "                             merchant       category     amt      first  \\\n",
       "0          fraud_Rippin, Kub and Mann       misc_net    4.97   Jennifer   \n",
       "1     fraud_Heller, Gutmann and Zieme    grocery_pos  107.23  Stephanie   \n",
       "2                fraud_Lind-Buckridge  entertainment  220.11     Edward   \n",
       "3  fraud_Kutch, Hermiston and Farrell  gas_transport   45.00     Jeremy   \n",
       "4                 fraud_Keeling-Crist       misc_pos   41.96      Tyler   \n",
       "\n",
       "      last gender                        street  ...      lat      long  \\\n",
       "0    Banks      F                561 Perry Cove  ...  36.0788  -81.1781   \n",
       "1     Gill      F  43039 Riley Greens Suite 393  ...  48.8878 -118.2105   \n",
       "2  Sanchez      M      594 White Dale Suite 530  ...  42.1808 -112.2620   \n",
       "3    White      M   9443 Cynthia Court Apt. 038  ...  46.2306 -112.1138   \n",
       "4   Garcia      M              408 Bradley Rest  ...  38.4207  -79.4629   \n",
       "\n",
       "   city_pop                                job        dob  \\\n",
       "0      3495          Psychologist, counselling   3/9/1988   \n",
       "1       149  Special educational needs teacher  6/21/1978   \n",
       "2      4154        Nature conservation officer  1/19/1962   \n",
       "3      1939                    Patent attorney  1/12/1967   \n",
       "4        99     Dance movement psychotherapist  3/28/1986   \n",
       "\n",
       "                          trans_num   unix_time  merch_lat  merch_long  \\\n",
       "0  0b242abb623afc578575680df30655b9  1325376018  36.011293  -82.048315   \n",
       "1  1f76529f8574734946361c461b024d99  1325376044  49.159047 -118.186462   \n",
       "2  a1a22d70485983eac12b5b88dad1cf95  1325376051  43.150704 -112.154481   \n",
       "3  6b849c168bdad6f867558c3793159a81  1325376076  47.034331 -112.561071   \n",
       "4  a41d7549acf90789359a9aa5346dcb46  1325376186  38.674999  -78.632459   \n",
       "\n",
       "   is_fraud  \n",
       "0         0  \n",
       "1         0  \n",
       "2         0  \n",
       "3         0  \n",
       "4         0  \n",
       "\n",
       "[5 rows x 23 columns]"
      ]
     },
     "execution_count": 2,
     "metadata": {},
     "output_type": "execute_result"
    }
   ],
   "source": [
    "#Reading dataset\n",
    "df1=pd.read_csv(\"subset_fraudTrain.csv\")\n",
    "df1.head()"
   ]
  },
  {
   "cell_type": "code",
   "execution_count": 9,
   "metadata": {},
   "outputs": [
    {
     "name": "stdout",
     "output_type": "stream",
     "text": [
      "<class 'pandas.core.frame.DataFrame'>\n",
      "RangeIndex: 49999 entries, 0 to 49998\n",
      "Data columns (total 23 columns):\n",
      " #   Column                 Non-Null Count  Dtype  \n",
      "---  ------                 --------------  -----  \n",
      " 0   Unnamed: 0             49999 non-null  int64  \n",
      " 1   trans_date_trans_time  49999 non-null  object \n",
      " 2   cc_num                 49999 non-null  float64\n",
      " 3   merchant               49999 non-null  object \n",
      " 4   category               49999 non-null  object \n",
      " 5   amt                    49999 non-null  float64\n",
      " 6   first                  49999 non-null  object \n",
      " 7   last                   49999 non-null  object \n",
      " 8   gender                 49999 non-null  object \n",
      " 9   street                 49999 non-null  object \n",
      " 10  city                   49999 non-null  object \n",
      " 11  state                  49999 non-null  object \n",
      " 12  zip                    49999 non-null  int64  \n",
      " 13  lat                    49999 non-null  float64\n",
      " 14  long                   49999 non-null  float64\n",
      " 15  city_pop               49999 non-null  int64  \n",
      " 16  job                    49999 non-null  object \n",
      " 17  dob                    49999 non-null  object \n",
      " 18  trans_num              49999 non-null  object \n",
      " 19  unix_time              49999 non-null  int64  \n",
      " 20  merch_lat              49999 non-null  float64\n",
      " 21  merch_long             49999 non-null  float64\n",
      " 22  is_fraud               49999 non-null  int64  \n",
      "dtypes: float64(6), int64(5), object(12)\n",
      "memory usage: 8.8+ MB\n"
     ]
    }
   ],
   "source": [
    "#Exploring columns and features in the dataset\n",
    "df1.info()\n",
    "first_column = df1.columns[0]\n",
    "df1 = df1.drop([first_column], axis=1)"
   ]
  },
  {
   "cell_type": "markdown",
   "metadata": {},
   "source": [
    "### Data Cleaning"
   ]
  },
  {
   "cell_type": "code",
   "execution_count": 11,
   "metadata": {},
   "outputs": [
    {
     "data": {
      "text/plain": [
       "0        1325376018\n",
       "1        1325376044\n",
       "2        1325376051\n",
       "3        1325376076\n",
       "4        1325376186\n",
       "            ...    \n",
       "49994    1327877090\n",
       "49995    1327877095\n",
       "49996    1327877158\n",
       "49997    1327877181\n",
       "49998    1327877221\n",
       "Name: unix_time, Length: 49999, dtype: int64"
      ]
     },
     "execution_count": 11,
     "metadata": {},
     "output_type": "execute_result"
    }
   ],
   "source": [
    "#Removing duplicate columns\n",
    "df1.head()\n",
    "df1.pop('unix_time')"
   ]
  },
  {
   "cell_type": "code",
   "execution_count": 12,
   "metadata": {},
   "outputs": [
    {
     "name": "stdout",
     "output_type": "stream",
     "text": [
      "<class 'pandas.core.frame.DataFrame'>\n",
      "RangeIndex: 49999 entries, 0 to 49998\n",
      "Data columns (total 21 columns):\n",
      " #   Column                 Non-Null Count  Dtype  \n",
      "---  ------                 --------------  -----  \n",
      " 0   trans_date_trans_time  49999 non-null  object \n",
      " 1   cc_num                 49999 non-null  float64\n",
      " 2   merchant               49999 non-null  object \n",
      " 3   category               49999 non-null  object \n",
      " 4   amt                    49999 non-null  float64\n",
      " 5   first                  49999 non-null  object \n",
      " 6   last                   49999 non-null  object \n",
      " 7   gender                 49999 non-null  object \n",
      " 8   street                 49999 non-null  object \n",
      " 9   city                   49999 non-null  object \n",
      " 10  state                  49999 non-null  object \n",
      " 11  zip                    49999 non-null  int64  \n",
      " 12  lat                    49999 non-null  float64\n",
      " 13  long                   49999 non-null  float64\n",
      " 14  city_pop               49999 non-null  int64  \n",
      " 15  job                    49999 non-null  object \n",
      " 16  dob                    49999 non-null  object \n",
      " 17  trans_num              49999 non-null  object \n",
      " 18  merch_lat              49999 non-null  float64\n",
      " 19  merch_long             49999 non-null  float64\n",
      " 20  is_fraud               49999 non-null  int64  \n",
      "dtypes: float64(6), int64(3), object(12)\n",
      "memory usage: 8.0+ MB\n"
     ]
    }
   ],
   "source": [
    "df1.info()"
   ]
  },
  {
   "cell_type": "markdown",
   "metadata": {},
   "source": [
    "### Metric 1: Grocery and Shopping are the highest fraud customer segments"
   ]
  },
  {
   "cell_type": "code",
   "execution_count": 21,
   "metadata": {},
   "outputs": [
    {
     "data": {
      "text/plain": [
       "<AxesSubplot:title={'center':'Fraud vs merchant category'}, xlabel='Count', ylabel='Merchant Category'>"
      ]
     },
     "execution_count": 21,
     "metadata": {},
     "output_type": "execute_result"
    },
    {
     "data": {
      "image/png": "[encoded data removed]",
      "text/plain": [
       "<Figure size 576x504 with 1 Axes>"
      ]
     },
     "metadata": {
      "needs_background": "light"
     },
     "output_type": "display_data"
    }
   ],
   "source": [
    "#Creating bar plot to identify merchant segments with highest fraud transactions\n",
    "df_metric1= df1[['is_fraud','category']]\n",
    "df_metricF=df_metric1[df_metric1['is_fraud']==True]\n",
    "\n",
    "df_metricF.head()\n",
    "xaxis1=df_metricF['category'].value_counts()\n",
    "\n",
    "plt.xlabel('Count')\n",
    "plt.ylabel('Merchant Category')\n",
    "plt.title('Fraud vs merchant category')\n",
    "plt.rcParams['figure.figsize'] = [8, 7]\n",
    "\n",
    "xaxis1.sort_values(inplace=True)\n",
    "xaxis1.plot(kind='barh',color='maroon') #Fraudulent transactions"
   ]
  },
  {
   "cell_type": "markdown",
   "metadata": {},
   "source": [
    "### Metric 2: Amount lost by Fraud by Customer Segments Category"
   ]
  },
  {
   "cell_type": "code",
   "execution_count": 74,
   "metadata": {},
   "outputs": [
    {
     "data": {
      "image/png": "[encoded data removed]",
      "text/plain": [
       "<Figure size 720x720 with 1 Axes>"
      ]
     },
     "metadata": {
      "needs_background": "light"
     },
     "output_type": "display_data"
    }
   ],
   "source": [
    "df_metricF=df1[df1['is_fraud']==True]\n",
    "d2=df_metricF.groupby(by='category').sum('amt')[['amt']]\n",
    "\n",
    "d2.plot(kind='line',color='maroon') #Fraudulent transactions\n",
    "plt.xlabel('Use Segment Category')\n",
    "plt.ylabel('Amt')\n",
    "plt.title('Amount lost by Fraud by Customer Segments Category')\n",
    "plt.rcParams['figure.figsize'] = [10, 10]\n"
   ]
  },
  {
   "cell_type": "markdown",
   "metadata": {},
   "source": [
    "### Metric 3: State most affected by User Segment Fraud"
   ]
  },
  {
   "cell_type": "code",
   "execution_count": 99,
   "metadata": {},
   "outputs": [
    {
     "data": {
      "text/plain": [
       "state  category    \n",
       "AK     shopping_net     1972.51\n",
       "AL     shopping_pos     1699.54\n",
       "AR     shopping_net     1971.64\n",
       "CA     shopping_net     5284.93\n",
       "FL     shopping_pos     4969.92\n",
       "IA     grocery_pos       988.86\n",
       "IL     shopping_pos     2484.34\n",
       "IN     shopping_net     1927.39\n",
       "KY     shopping_net     4942.03\n",
       "ME     shopping_net     4954.19\n",
       "MI     shopping_net     5019.25\n",
       "MO     shopping_net     2942.96\n",
       "NC     shopping_net     8299.31\n",
       "ND     shopping_net     2915.90\n",
       "NE     shopping_net     6543.81\n",
       "NY     shopping_net     5807.93\n",
       "OH     shopping_net    10497.22\n",
       "OK     misc_pos         1541.46\n",
       "PA     shopping_net    13762.77\n",
       "SC     shopping_net     2879.61\n",
       "SD     shopping_net     2027.13\n",
       "TN     shopping_net     2965.96\n",
       "TX     grocery_pos      1760.82\n",
       "UT     shopping_net     2784.15\n",
       "VA     shopping_net     6141.02\n",
       "WI     shopping_net     2056.06\n",
       "Name: amt, dtype: float64"
      ]
     },
     "execution_count": 99,
     "metadata": {},
     "output_type": "execute_result"
    }
   ],
   "source": [
    "df_metricstate=df1[df1['is_fraud']==True]\n",
    "d2state=df_metricstate.groupby(by=['state','category']).sum('amt')[['amt']]\n",
    "d2state1=d2state['amt'].groupby('state', group_keys=False)\n",
    "d2state2 = d2state1.apply(lambda x: x.sort_values(ascending=False).head(1))\n",
    "d2state2"
   ]
  },
  {
   "cell_type": "markdown",
   "metadata": {},
   "source": [
    "### Only States affected by Fraud"
   ]
  },
  {
   "cell_type": "code",
   "execution_count": 101,
   "metadata": {},
   "outputs": [
    {
     "data": {
      "text/html": [
       "<div>\n",
       "<style scoped>\n",
       "    .dataframe tbody tr th:only-of-type {\n",
       "        vertical-align: middle;\n",
       "    }\n",
       "\n",
       "    .dataframe tbody tr th {\n",
       "        vertical-align: top;\n",
       "    }\n",
       "\n",
       "    .dataframe thead th {\n",
       "        text-align: right;\n",
       "    }\n",
       "</style>\n",
       "<table border=\"1\" class=\"dataframe\">\n",
       "  <thead>\n",
       "    <tr style=\"text-align: right;\">\n",
       "      <th></th>\n",
       "      <th>amt</th>\n",
       "    </tr>\n",
       "    <tr>\n",
       "      <th>state</th>\n",
       "      <th></th>\n",
       "    </tr>\n",
       "  </thead>\n",
       "  <tbody>\n",
       "    <tr>\n",
       "      <th>PA</th>\n",
       "      <td>28031.60</td>\n",
       "    </tr>\n",
       "    <tr>\n",
       "      <th>OH</th>\n",
       "      <td>23185.74</td>\n",
       "    </tr>\n",
       "    <tr>\n",
       "      <th>NY</th>\n",
       "      <td>18795.88</td>\n",
       "    </tr>\n",
       "    <tr>\n",
       "      <th>CA</th>\n",
       "      <td>15243.87</td>\n",
       "    </tr>\n",
       "    <tr>\n",
       "      <th>NC</th>\n",
       "      <td>15035.87</td>\n",
       "    </tr>\n",
       "    <tr>\n",
       "      <th>ME</th>\n",
       "      <td>14506.95</td>\n",
       "    </tr>\n",
       "    <tr>\n",
       "      <th>VA</th>\n",
       "      <td>14120.58</td>\n",
       "    </tr>\n",
       "    <tr>\n",
       "      <th>FL</th>\n",
       "      <td>12704.18</td>\n",
       "    </tr>\n",
       "    <tr>\n",
       "      <th>NE</th>\n",
       "      <td>12390.34</td>\n",
       "    </tr>\n",
       "    <tr>\n",
       "      <th>MI</th>\n",
       "      <td>8626.29</td>\n",
       "    </tr>\n",
       "    <tr>\n",
       "      <th>KY</th>\n",
       "      <td>6430.92</td>\n",
       "    </tr>\n",
       "    <tr>\n",
       "      <th>AK</th>\n",
       "      <td>6191.29</td>\n",
       "    </tr>\n",
       "    <tr>\n",
       "      <th>SC</th>\n",
       "      <td>5904.31</td>\n",
       "    </tr>\n",
       "    <tr>\n",
       "      <th>SD</th>\n",
       "      <td>5652.85</td>\n",
       "    </tr>\n",
       "    <tr>\n",
       "      <th>UT</th>\n",
       "      <td>5309.21</td>\n",
       "    </tr>\n",
       "    <tr>\n",
       "      <th>AL</th>\n",
       "      <td>5043.71</td>\n",
       "    </tr>\n",
       "    <tr>\n",
       "      <th>WI</th>\n",
       "      <td>4693.06</td>\n",
       "    </tr>\n",
       "    <tr>\n",
       "      <th>TN</th>\n",
       "      <td>4667.97</td>\n",
       "    </tr>\n",
       "    <tr>\n",
       "      <th>IL</th>\n",
       "      <td>4434.95</td>\n",
       "    </tr>\n",
       "    <tr>\n",
       "      <th>TX</th>\n",
       "      <td>4283.10</td>\n",
       "    </tr>\n",
       "    <tr>\n",
       "      <th>IN</th>\n",
       "      <td>4273.05</td>\n",
       "    </tr>\n",
       "    <tr>\n",
       "      <th>MO</th>\n",
       "      <td>4073.18</td>\n",
       "    </tr>\n",
       "    <tr>\n",
       "      <th>ND</th>\n",
       "      <td>4020.35</td>\n",
       "    </tr>\n",
       "    <tr>\n",
       "      <th>AR</th>\n",
       "      <td>3826.16</td>\n",
       "    </tr>\n",
       "    <tr>\n",
       "      <th>IA</th>\n",
       "      <td>1782.08</td>\n",
       "    </tr>\n",
       "    <tr>\n",
       "      <th>OK</th>\n",
       "      <td>1572.74</td>\n",
       "    </tr>\n",
       "  </tbody>\n",
       "</table>\n",
       "</div>"
      ],
      "text/plain": [
       "            amt\n",
       "state          \n",
       "PA     28031.60\n",
       "OH     23185.74\n",
       "NY     18795.88\n",
       "CA     15243.87\n",
       "NC     15035.87\n",
       "ME     14506.95\n",
       "VA     14120.58\n",
       "FL     12704.18\n",
       "NE     12390.34\n",
       "MI      8626.29\n",
       "KY      6430.92\n",
       "AK      6191.29\n",
       "SC      5904.31\n",
       "SD      5652.85\n",
       "UT      5309.21\n",
       "AL      5043.71\n",
       "WI      4693.06\n",
       "TN      4667.97\n",
       "IL      4434.95\n",
       "TX      4283.10\n",
       "IN      4273.05\n",
       "MO      4073.18\n",
       "ND      4020.35\n",
       "AR      3826.16\n",
       "IA      1782.08\n",
       "OK      1572.74"
      ]
     },
     "execution_count": 101,
     "metadata": {},
     "output_type": "execute_result"
    }
   ],
   "source": [
    "df_metricstate=df1[df1['is_fraud']==True]\n",
    "d2state=df_metricstate.groupby(by=['state']).sum('amt')[['amt']]\n",
    "#d2state1=d2state['amt'].groupby('state', group_keys=False)\n",
    "d2state2 = d2state.apply(lambda x: x.sort_values(ascending=False))\n",
    "d2state2"
   ]
  },
  {
   "cell_type": "markdown",
   "metadata": {},
   "source": [
    "### Metric 4: Amount of fraud vs day of week"
   ]
  },
  {
   "cell_type": "code",
   "execution_count": 48,
   "metadata": {},
   "outputs": [
    {
     "data": {
      "text/plain": [
       "0    January\n",
       "1    January\n",
       "2    January\n",
       "3    January\n",
       "4    January\n",
       "Name: monthname, dtype: object"
      ]
     },
     "execution_count": 48,
     "metadata": {},
     "output_type": "execute_result"
    }
   ],
   "source": [
    "#Convert datetime to Month\n",
    "df1['monthname'] = pd.to_datetime(df1['trans_date_trans_time']).dt.strftime('%B')\n",
    "df1['monthname'].head()"
   ]
  },
  {
   "cell_type": "code",
   "execution_count": 52,
   "metadata": {},
   "outputs": [
    {
     "data": {
      "text/plain": [
       "0    Tuesday\n",
       "1    Tuesday\n",
       "2    Tuesday\n",
       "3    Tuesday\n",
       "4    Tuesday\n",
       "Name: weekday, dtype: object"
      ]
     },
     "execution_count": 52,
     "metadata": {},
     "output_type": "execute_result"
    }
   ],
   "source": [
    "#Convert datetime to day of Week\n",
    "df1['weekday']= pd.to_datetime(df1['trans_date_trans_time']).dt.day_name()\n",
    "df1['weekday'].head()"
   ]
  },
  {
   "cell_type": "code",
   "execution_count": 65,
   "metadata": {},
   "outputs": [
    {
     "data": {
      "text/html": [
       "<div>\n",
       "<style scoped>\n",
       "    .dataframe tbody tr th:only-of-type {\n",
       "        vertical-align: middle;\n",
       "    }\n",
       "\n",
       "    .dataframe tbody tr th {\n",
       "        vertical-align: top;\n",
       "    }\n",
       "\n",
       "    .dataframe thead th {\n",
       "        text-align: right;\n",
       "    }\n",
       "</style>\n",
       "<table border=\"1\" class=\"dataframe\">\n",
       "  <thead>\n",
       "    <tr style=\"text-align: right;\">\n",
       "      <th></th>\n",
       "      <th>amt</th>\n",
       "    </tr>\n",
       "    <tr>\n",
       "      <th>weekday</th>\n",
       "      <th></th>\n",
       "    </tr>\n",
       "  </thead>\n",
       "  <tbody>\n",
       "    <tr>\n",
       "      <th>Friday</th>\n",
       "      <td>26422.59</td>\n",
       "    </tr>\n",
       "    <tr>\n",
       "      <th>Monday</th>\n",
       "      <td>33565.21</td>\n",
       "    </tr>\n",
       "    <tr>\n",
       "      <th>Saturday</th>\n",
       "      <td>26838.62</td>\n",
       "    </tr>\n",
       "    <tr>\n",
       "      <th>Sunday</th>\n",
       "      <td>46175.24</td>\n",
       "    </tr>\n",
       "    <tr>\n",
       "      <th>Thursday</th>\n",
       "      <td>19637.29</td>\n",
       "    </tr>\n",
       "  </tbody>\n",
       "</table>\n",
       "</div>"
      ],
      "text/plain": [
       "               amt\n",
       "weekday           \n",
       "Friday    26422.59\n",
       "Monday    33565.21\n",
       "Saturday  26838.62\n",
       "Sunday    46175.24\n",
       "Thursday  19637.29"
      ]
     },
     "execution_count": 65,
     "metadata": {},
     "output_type": "execute_result"
    }
   ],
   "source": [
    "df_metricFraud=df1[df1['is_fraud']==True]\n",
    "df_metric4 = df_metricFraud.groupby('weekday').sum('amt')[['amt']]\n",
    "df_metric4.head()"
   ]
  },
  {
   "cell_type": "code",
   "execution_count": 66,
   "metadata": {},
   "outputs": [
    {
     "data": {
      "text/plain": [
       "{'Sunday': 0,\n",
       " 'Monday': 1,\n",
       " 'Tuesday': 2,\n",
       " 'Wednesday': 3,\n",
       " 'Thursday': 4,\n",
       " 'Friday': 5,\n",
       " 'Saturday': 6}"
      ]
     },
     "execution_count": 66,
     "metadata": {},
     "output_type": "execute_result"
    }
   ],
   "source": [
    "#Sort by weekday\n",
    "sorter = ['Sunday', 'Monday', 'Tuesday', 'Wednesday', 'Thursday', 'Friday', 'Saturday']\n",
    "sorterIndex = dict(zip(sorter,range(len(sorter))))\n",
    "sorterIndex"
   ]
  },
  {
   "cell_type": "code",
   "execution_count": 67,
   "metadata": {},
   "outputs": [
    {
     "data": {
      "text/html": [
       "<div>\n",
       "<style scoped>\n",
       "    .dataframe tbody tr th:only-of-type {\n",
       "        vertical-align: middle;\n",
       "    }\n",
       "\n",
       "    .dataframe tbody tr th {\n",
       "        vertical-align: top;\n",
       "    }\n",
       "\n",
       "    .dataframe thead th {\n",
       "        text-align: right;\n",
       "    }\n",
       "</style>\n",
       "<table border=\"1\" class=\"dataframe\">\n",
       "  <thead>\n",
       "    <tr style=\"text-align: right;\">\n",
       "      <th></th>\n",
       "      <th>amt</th>\n",
       "      <th>Day_id</th>\n",
       "    </tr>\n",
       "    <tr>\n",
       "      <th>weekday</th>\n",
       "      <th></th>\n",
       "      <th></th>\n",
       "    </tr>\n",
       "  </thead>\n",
       "  <tbody>\n",
       "    <tr>\n",
       "      <th>Friday</th>\n",
       "      <td>26422.59</td>\n",
       "      <td>5</td>\n",
       "    </tr>\n",
       "    <tr>\n",
       "      <th>Monday</th>\n",
       "      <td>33565.21</td>\n",
       "      <td>1</td>\n",
       "    </tr>\n",
       "    <tr>\n",
       "      <th>Saturday</th>\n",
       "      <td>26838.62</td>\n",
       "      <td>6</td>\n",
       "    </tr>\n",
       "    <tr>\n",
       "      <th>Sunday</th>\n",
       "      <td>46175.24</td>\n",
       "      <td>0</td>\n",
       "    </tr>\n",
       "    <tr>\n",
       "      <th>Thursday</th>\n",
       "      <td>19637.29</td>\n",
       "      <td>4</td>\n",
       "    </tr>\n",
       "  </tbody>\n",
       "</table>\n",
       "</div>"
      ],
      "text/plain": [
       "               amt  Day_id\n",
       "weekday                   \n",
       "Friday    26422.59       5\n",
       "Monday    33565.21       1\n",
       "Saturday  26838.62       6\n",
       "Sunday    46175.24       0\n",
       "Thursday  19637.29       4"
      ]
     },
     "execution_count": 67,
     "metadata": {},
     "output_type": "execute_result"
    }
   ],
   "source": [
    "df_metric4['Day_id'] = df_metric4.index\n",
    "df_metric4['Day_id'] = df_metric4['Day_id'].map(sorterIndex)\n",
    "df_metric4.head()"
   ]
  },
  {
   "cell_type": "code",
   "execution_count": 68,
   "metadata": {},
   "outputs": [
    {
     "data": {
      "text/html": [
       "<div>\n",
       "<style scoped>\n",
       "    .dataframe tbody tr th:only-of-type {\n",
       "        vertical-align: middle;\n",
       "    }\n",
       "\n",
       "    .dataframe tbody tr th {\n",
       "        vertical-align: top;\n",
       "    }\n",
       "\n",
       "    .dataframe thead th {\n",
       "        text-align: right;\n",
       "    }\n",
       "</style>\n",
       "<table border=\"1\" class=\"dataframe\">\n",
       "  <thead>\n",
       "    <tr style=\"text-align: right;\">\n",
       "      <th></th>\n",
       "      <th>amt</th>\n",
       "      <th>Day_id</th>\n",
       "    </tr>\n",
       "    <tr>\n",
       "      <th>weekday</th>\n",
       "      <th></th>\n",
       "      <th></th>\n",
       "    </tr>\n",
       "  </thead>\n",
       "  <tbody>\n",
       "    <tr>\n",
       "      <th>Sunday</th>\n",
       "      <td>46175.24</td>\n",
       "      <td>0</td>\n",
       "    </tr>\n",
       "    <tr>\n",
       "      <th>Monday</th>\n",
       "      <td>33565.21</td>\n",
       "      <td>1</td>\n",
       "    </tr>\n",
       "    <tr>\n",
       "      <th>Tuesday</th>\n",
       "      <td>52285.52</td>\n",
       "      <td>2</td>\n",
       "    </tr>\n",
       "    <tr>\n",
       "      <th>Wednesday</th>\n",
       "      <td>29875.76</td>\n",
       "      <td>3</td>\n",
       "    </tr>\n",
       "    <tr>\n",
       "      <th>Thursday</th>\n",
       "      <td>19637.29</td>\n",
       "      <td>4</td>\n",
       "    </tr>\n",
       "  </tbody>\n",
       "</table>\n",
       "</div>"
      ],
      "text/plain": [
       "                amt  Day_id\n",
       "weekday                    \n",
       "Sunday     46175.24       0\n",
       "Monday     33565.21       1\n",
       "Tuesday    52285.52       2\n",
       "Wednesday  29875.76       3\n",
       "Thursday   19637.29       4"
      ]
     },
     "execution_count": 68,
     "metadata": {},
     "output_type": "execute_result"
    }
   ],
   "source": [
    "df_metric4.sort_values('Day_id', inplace=True)\n",
    "df_metric4.head()"
   ]
  },
  {
   "cell_type": "code",
   "execution_count": 69,
   "metadata": {},
   "outputs": [
    {
     "data": {
      "text/plain": [
       "weekday\n",
       "Sunday       0\n",
       "Monday       1\n",
       "Tuesday      2\n",
       "Wednesday    3\n",
       "Thursday     4\n",
       "Friday       5\n",
       "Saturday     6\n",
       "Name: Day_id, dtype: int64"
      ]
     },
     "execution_count": 69,
     "metadata": {},
     "output_type": "execute_result"
    }
   ],
   "source": [
    "df_metric4.pop('Day_id')"
   ]
  },
  {
   "cell_type": "code",
   "execution_count": 70,
   "metadata": {},
   "outputs": [
    {
     "data": {
      "text/html": [
       "<div>\n",
       "<style scoped>\n",
       "    .dataframe tbody tr th:only-of-type {\n",
       "        vertical-align: middle;\n",
       "    }\n",
       "\n",
       "    .dataframe tbody tr th {\n",
       "        vertical-align: top;\n",
       "    }\n",
       "\n",
       "    .dataframe thead th {\n",
       "        text-align: right;\n",
       "    }\n",
       "</style>\n",
       "<table border=\"1\" class=\"dataframe\">\n",
       "  <thead>\n",
       "    <tr style=\"text-align: right;\">\n",
       "      <th></th>\n",
       "      <th>amt</th>\n",
       "    </tr>\n",
       "    <tr>\n",
       "      <th>weekday</th>\n",
       "      <th></th>\n",
       "    </tr>\n",
       "  </thead>\n",
       "  <tbody>\n",
       "    <tr>\n",
       "      <th>Sunday</th>\n",
       "      <td>46175.24</td>\n",
       "    </tr>\n",
       "    <tr>\n",
       "      <th>Monday</th>\n",
       "      <td>33565.21</td>\n",
       "    </tr>\n",
       "    <tr>\n",
       "      <th>Tuesday</th>\n",
       "      <td>52285.52</td>\n",
       "    </tr>\n",
       "    <tr>\n",
       "      <th>Wednesday</th>\n",
       "      <td>29875.76</td>\n",
       "    </tr>\n",
       "    <tr>\n",
       "      <th>Thursday</th>\n",
       "      <td>19637.29</td>\n",
       "    </tr>\n",
       "    <tr>\n",
       "      <th>Friday</th>\n",
       "      <td>26422.59</td>\n",
       "    </tr>\n",
       "    <tr>\n",
       "      <th>Saturday</th>\n",
       "      <td>26838.62</td>\n",
       "    </tr>\n",
       "  </tbody>\n",
       "</table>\n",
       "</div>"
      ],
      "text/plain": [
       "                amt\n",
       "weekday            \n",
       "Sunday     46175.24\n",
       "Monday     33565.21\n",
       "Tuesday    52285.52\n",
       "Wednesday  29875.76\n",
       "Thursday   19637.29\n",
       "Friday     26422.59\n",
       "Saturday   26838.62"
      ]
     },
     "execution_count": 70,
     "metadata": {},
     "output_type": "execute_result"
    }
   ],
   "source": [
    "df_metric4"
   ]
  },
  {
   "cell_type": "code",
   "execution_count": 71,
   "metadata": {},
   "outputs": [
    {
     "data": {
      "text/plain": [
       "Text(0.5, 1.0, 'Fraud Transactions by WeekDay')"
      ]
     },
     "execution_count": 71,
     "metadata": {},
     "output_type": "execute_result"
    },
    {
     "data": {
      "image/png": "[encoded data removed]",
      "text/plain": [
       "<Figure size 720x720 with 1 Axes>"
      ]
     },
     "metadata": {
      "needs_background": "light"
     },
     "output_type": "display_data"
    }
   ],
   "source": [
    "#Amount of fraud by day of the week\n",
    "\n",
    "df_metric4.plot(kind='line',color='red')\n",
    "\n",
    "plt.xlabel('Day')\n",
    "plt.ylabel('Fraud Transactions')\n",
    "plt.title('Fraud Transactions by WeekDay')"
   ]
  },
  {
   "cell_type": "markdown",
   "metadata": {},
   "source": [
    "### Amount of fraud by month"
   ]
  },
  {
   "cell_type": "code",
   "execution_count": 102,
   "metadata": {},
   "outputs": [
    {
     "data": {
      "text/html": [
       "<div>\n",
       "<style scoped>\n",
       "    .dataframe tbody tr th:only-of-type {\n",
       "        vertical-align: middle;\n",
       "    }\n",
       "\n",
       "    .dataframe tbody tr th {\n",
       "        vertical-align: top;\n",
       "    }\n",
       "\n",
       "    .dataframe thead th {\n",
       "        text-align: right;\n",
       "    }\n",
       "</style>\n",
       "<table border=\"1\" class=\"dataframe\">\n",
       "  <thead>\n",
       "    <tr style=\"text-align: right;\">\n",
       "      <th></th>\n",
       "      <th>Unnamed: 0</th>\n",
       "      <th>trans_date_trans_time</th>\n",
       "      <th>cc_num</th>\n",
       "      <th>merchant</th>\n",
       "      <th>category</th>\n",
       "      <th>amt</th>\n",
       "      <th>first</th>\n",
       "      <th>last</th>\n",
       "      <th>gender</th>\n",
       "      <th>street</th>\n",
       "      <th>...</th>\n",
       "      <th>lat</th>\n",
       "      <th>long</th>\n",
       "      <th>city_pop</th>\n",
       "      <th>job</th>\n",
       "      <th>dob</th>\n",
       "      <th>trans_num</th>\n",
       "      <th>unix_time</th>\n",
       "      <th>merch_lat</th>\n",
       "      <th>merch_long</th>\n",
       "      <th>is_fraud</th>\n",
       "    </tr>\n",
       "  </thead>\n",
       "  <tbody>\n",
       "    <tr>\n",
       "      <th>0</th>\n",
       "      <td>881438</td>\n",
       "      <td>12/22/2019 13:59</td>\n",
       "      <td>6.011200e+15</td>\n",
       "      <td>fraud_Bechtelar-Rippin</td>\n",
       "      <td>food_dining</td>\n",
       "      <td>2.45</td>\n",
       "      <td>Vincent</td>\n",
       "      <td>Ward</td>\n",
       "      <td>M</td>\n",
       "      <td>06730 Joshua Isle Suite 555</td>\n",
       "      <td>...</td>\n",
       "      <td>42.2665</td>\n",
       "      <td>-72.0821</td>\n",
       "      <td>4680</td>\n",
       "      <td>Field seismologist</td>\n",
       "      <td>4/3/1986</td>\n",
       "      <td>c6474afe2a8752fc94138bab8e59b3d1</td>\n",
       "      <td>1356184764</td>\n",
       "      <td>42.598317</td>\n",
       "      <td>-72.226576</td>\n",
       "      <td>0</td>\n",
       "    </tr>\n",
       "    <tr>\n",
       "      <th>1</th>\n",
       "      <td>294121</td>\n",
       "      <td>5/24/2019 21:17</td>\n",
       "      <td>6.595970e+15</td>\n",
       "      <td>fraud_Bahringer, Bergnaum and Quitzon</td>\n",
       "      <td>home</td>\n",
       "      <td>48.82</td>\n",
       "      <td>Gina</td>\n",
       "      <td>Gomez</td>\n",
       "      <td>F</td>\n",
       "      <td>72030 Shelton Crossing Apt. 742</td>\n",
       "      <td>...</td>\n",
       "      <td>40.6774</td>\n",
       "      <td>-74.4968</td>\n",
       "      <td>2307</td>\n",
       "      <td>Science writer</td>\n",
       "      <td>9/11/1969</td>\n",
       "      <td>e8ef64ee2575ca76cb2bc0a18dbdeb2f</td>\n",
       "      <td>1337894276</td>\n",
       "      <td>41.441224</td>\n",
       "      <td>-74.659416</td>\n",
       "      <td>0</td>\n",
       "    </tr>\n",
       "    <tr>\n",
       "      <th>2</th>\n",
       "      <td>857777</td>\n",
       "      <td>12/16/2019 18:42</td>\n",
       "      <td>4.837000e+15</td>\n",
       "      <td>fraud_Runte, Green and Emard</td>\n",
       "      <td>health_fitness</td>\n",
       "      <td>15.53</td>\n",
       "      <td>Susan</td>\n",
       "      <td>Hardy</td>\n",
       "      <td>F</td>\n",
       "      <td>516 Brown Parks</td>\n",
       "      <td>...</td>\n",
       "      <td>46.0062</td>\n",
       "      <td>-86.2555</td>\n",
       "      <td>6469</td>\n",
       "      <td>Trade mark attorney</td>\n",
       "      <td>4/12/1979</td>\n",
       "      <td>d49f365783fd1b63ebdc1d66dc5b8521</td>\n",
       "      <td>1355683354</td>\n",
       "      <td>46.620565</td>\n",
       "      <td>-87.053158</td>\n",
       "      <td>0</td>\n",
       "    </tr>\n",
       "    <tr>\n",
       "      <th>3</th>\n",
       "      <td>182561</td>\n",
       "      <td>4/5/2019 16:16</td>\n",
       "      <td>4.509920e+15</td>\n",
       "      <td>fraud_Durgan, Gislason and Spencer</td>\n",
       "      <td>home</td>\n",
       "      <td>240.37</td>\n",
       "      <td>Monica</td>\n",
       "      <td>West</td>\n",
       "      <td>F</td>\n",
       "      <td>22084 Smith Roads Suite 776</td>\n",
       "      <td>...</td>\n",
       "      <td>43.2893</td>\n",
       "      <td>-97.1904</td>\n",
       "      <td>811</td>\n",
       "      <td>Neurosurgeon</td>\n",
       "      <td>3/28/1972</td>\n",
       "      <td>911f3de63f9f1d4141112919a393159b</td>\n",
       "      <td>1333642564</td>\n",
       "      <td>43.468624</td>\n",
       "      <td>-98.156441</td>\n",
       "      <td>0</td>\n",
       "    </tr>\n",
       "    <tr>\n",
       "      <th>4</th>\n",
       "      <td>224908</td>\n",
       "      <td>4/23/2019 16:38</td>\n",
       "      <td>6.502200e+15</td>\n",
       "      <td>fraud_Runte, Green and Emard</td>\n",
       "      <td>health_fitness</td>\n",
       "      <td>77.30</td>\n",
       "      <td>Nathan</td>\n",
       "      <td>Byrd</td>\n",
       "      <td>M</td>\n",
       "      <td>155 Gregory Mount Suite 791</td>\n",
       "      <td>...</td>\n",
       "      <td>39.4584</td>\n",
       "      <td>-106.3851</td>\n",
       "      <td>277</td>\n",
       "      <td>Human resources officer</td>\n",
       "      <td>4/3/1985</td>\n",
       "      <td>ae1261b71d4473225722d693308bc762</td>\n",
       "      <td>1335199127</td>\n",
       "      <td>40.274821</td>\n",
       "      <td>-105.641308</td>\n",
       "      <td>0</td>\n",
       "    </tr>\n",
       "  </tbody>\n",
       "</table>\n",
       "<p>5 rows × 23 columns</p>\n",
       "</div>"
      ],
      "text/plain": [
       "   Unnamed: 0 trans_date_trans_time        cc_num  \\\n",
       "0      881438      12/22/2019 13:59  6.011200e+15   \n",
       "1      294121       5/24/2019 21:17  6.595970e+15   \n",
       "2      857777      12/16/2019 18:42  4.837000e+15   \n",
       "3      182561        4/5/2019 16:16  4.509920e+15   \n",
       "4      224908       4/23/2019 16:38  6.502200e+15   \n",
       "\n",
       "                                merchant        category     amt    first  \\\n",
       "0                 fraud_Bechtelar-Rippin     food_dining    2.45  Vincent   \n",
       "1  fraud_Bahringer, Bergnaum and Quitzon            home   48.82     Gina   \n",
       "2           fraud_Runte, Green and Emard  health_fitness   15.53    Susan   \n",
       "3     fraud_Durgan, Gislason and Spencer            home  240.37   Monica   \n",
       "4           fraud_Runte, Green and Emard  health_fitness   77.30   Nathan   \n",
       "\n",
       "    last gender                           street  ...      lat      long  \\\n",
       "0   Ward      M      06730 Joshua Isle Suite 555  ...  42.2665  -72.0821   \n",
       "1  Gomez      F  72030 Shelton Crossing Apt. 742  ...  40.6774  -74.4968   \n",
       "2  Hardy      F                  516 Brown Parks  ...  46.0062  -86.2555   \n",
       "3   West      F      22084 Smith Roads Suite 776  ...  43.2893  -97.1904   \n",
       "4   Byrd      M      155 Gregory Mount Suite 791  ...  39.4584 -106.3851   \n",
       "\n",
       "   city_pop                      job        dob  \\\n",
       "0      4680       Field seismologist   4/3/1986   \n",
       "1      2307           Science writer  9/11/1969   \n",
       "2      6469      Trade mark attorney  4/12/1979   \n",
       "3       811             Neurosurgeon  3/28/1972   \n",
       "4       277  Human resources officer   4/3/1985   \n",
       "\n",
       "                          trans_num   unix_time  merch_lat  merch_long  \\\n",
       "0  c6474afe2a8752fc94138bab8e59b3d1  1356184764  42.598317  -72.226576   \n",
       "1  e8ef64ee2575ca76cb2bc0a18dbdeb2f  1337894276  41.441224  -74.659416   \n",
       "2  d49f365783fd1b63ebdc1d66dc5b8521  1355683354  46.620565  -87.053158   \n",
       "3  911f3de63f9f1d4141112919a393159b  1333642564  43.468624  -98.156441   \n",
       "4  ae1261b71d4473225722d693308bc762  1335199127  40.274821 -105.641308   \n",
       "\n",
       "   is_fraud  \n",
       "0         0  \n",
       "1         0  \n",
       "2         0  \n",
       "3         0  \n",
       "4         0  \n",
       "\n",
       "[5 rows x 23 columns]"
      ]
     },
     "execution_count": 102,
     "metadata": {},
     "output_type": "execute_result"
    }
   ],
   "source": [
    "dfmonth=pd.read_csv(\"subset2_fraudTrain.csv\")\n",
    "dfmonth.head()"
   ]
  },
  {
   "cell_type": "code",
   "execution_count": 103,
   "metadata": {},
   "outputs": [
    {
     "data": {
      "text/plain": [
       "0    December\n",
       "1         May\n",
       "2    December\n",
       "3       April\n",
       "4       April\n",
       "Name: monthname, dtype: object"
      ]
     },
     "execution_count": 103,
     "metadata": {},
     "output_type": "execute_result"
    }
   ],
   "source": [
    "#Convert datetime to Month\n",
    "dfmonth['monthname'] = pd.to_datetime(dfmonth['trans_date_trans_time']).dt.strftime('%B')\n",
    "dfmonth['monthname'].head()"
   ]
  },
  {
   "cell_type": "code",
   "execution_count": 104,
   "metadata": {},
   "outputs": [
    {
     "data": {
      "text/html": [
       "<div>\n",
       "<style scoped>\n",
       "    .dataframe tbody tr th:only-of-type {\n",
       "        vertical-align: middle;\n",
       "    }\n",
       "\n",
       "    .dataframe tbody tr th {\n",
       "        vertical-align: top;\n",
       "    }\n",
       "\n",
       "    .dataframe thead th {\n",
       "        text-align: right;\n",
       "    }\n",
       "</style>\n",
       "<table border=\"1\" class=\"dataframe\">\n",
       "  <thead>\n",
       "    <tr style=\"text-align: right;\">\n",
       "      <th></th>\n",
       "      <th>amt</th>\n",
       "    </tr>\n",
       "    <tr>\n",
       "      <th>monthname</th>\n",
       "      <th></th>\n",
       "    </tr>\n",
       "  </thead>\n",
       "  <tbody>\n",
       "    <tr>\n",
       "      <th>April</th>\n",
       "      <td>11601.45</td>\n",
       "    </tr>\n",
       "    <tr>\n",
       "      <th>August</th>\n",
       "      <td>10413.76</td>\n",
       "    </tr>\n",
       "    <tr>\n",
       "      <th>December</th>\n",
       "      <td>12123.92</td>\n",
       "    </tr>\n",
       "    <tr>\n",
       "      <th>February</th>\n",
       "      <td>20512.60</td>\n",
       "    </tr>\n",
       "    <tr>\n",
       "      <th>January</th>\n",
       "      <td>14104.47</td>\n",
       "    </tr>\n",
       "  </tbody>\n",
       "</table>\n",
       "</div>"
      ],
      "text/plain": [
       "                amt\n",
       "monthname          \n",
       "April      11601.45\n",
       "August     10413.76\n",
       "December   12123.92\n",
       "February   20512.60\n",
       "January    14104.47"
      ]
     },
     "execution_count": 104,
     "metadata": {},
     "output_type": "execute_result"
    }
   ],
   "source": [
    "df_metricFraudMonth=dfmonth[dfmonth['is_fraud']==True]\n",
    "df_metricFM = df_metricFraudMonth.groupby('monthname').sum('amt')[['amt']]\n",
    "df_metricFM.head()"
   ]
  },
  {
   "cell_type": "code",
   "execution_count": 106,
   "metadata": {},
   "outputs": [
    {
     "data": {
      "text/plain": [
       "{'January': 0,\n",
       " 'February': 1,\n",
       " 'March': 2,\n",
       " 'April': 3,\n",
       " 'May': 4,\n",
       " 'June': 5,\n",
       " 'July': 6,\n",
       " 'August': 7,\n",
       " 'September': 8,\n",
       " 'October': 9,\n",
       " 'November': 10,\n",
       " 'December': 11}"
      ]
     },
     "execution_count": 106,
     "metadata": {},
     "output_type": "execute_result"
    }
   ],
   "source": [
    "#Sort by weekday\n",
    "sorter = ['January', 'February', 'March', 'April', 'May', 'June', 'July','August','September'\\\n",
    "          ,'October','November','December']\n",
    "sorterIndex = dict(zip(sorter,range(len(sorter))))\n",
    "sorterIndex"
   ]
  },
  {
   "cell_type": "code",
   "execution_count": 107,
   "metadata": {},
   "outputs": [
    {
     "data": {
      "text/html": [
       "<div>\n",
       "<style scoped>\n",
       "    .dataframe tbody tr th:only-of-type {\n",
       "        vertical-align: middle;\n",
       "    }\n",
       "\n",
       "    .dataframe tbody tr th {\n",
       "        vertical-align: top;\n",
       "    }\n",
       "\n",
       "    .dataframe thead th {\n",
       "        text-align: right;\n",
       "    }\n",
       "</style>\n",
       "<table border=\"1\" class=\"dataframe\">\n",
       "  <thead>\n",
       "    <tr style=\"text-align: right;\">\n",
       "      <th></th>\n",
       "      <th>amt</th>\n",
       "      <th>Month_id</th>\n",
       "    </tr>\n",
       "    <tr>\n",
       "      <th>monthname</th>\n",
       "      <th></th>\n",
       "      <th></th>\n",
       "    </tr>\n",
       "  </thead>\n",
       "  <tbody>\n",
       "    <tr>\n",
       "      <th>April</th>\n",
       "      <td>11601.45</td>\n",
       "      <td>3</td>\n",
       "    </tr>\n",
       "    <tr>\n",
       "      <th>August</th>\n",
       "      <td>10413.76</td>\n",
       "      <td>7</td>\n",
       "    </tr>\n",
       "    <tr>\n",
       "      <th>December</th>\n",
       "      <td>12123.92</td>\n",
       "      <td>11</td>\n",
       "    </tr>\n",
       "    <tr>\n",
       "      <th>February</th>\n",
       "      <td>20512.60</td>\n",
       "      <td>1</td>\n",
       "    </tr>\n",
       "    <tr>\n",
       "      <th>January</th>\n",
       "      <td>14104.47</td>\n",
       "      <td>0</td>\n",
       "    </tr>\n",
       "  </tbody>\n",
       "</table>\n",
       "</div>"
      ],
      "text/plain": [
       "                amt  Month_id\n",
       "monthname                    \n",
       "April      11601.45         3\n",
       "August     10413.76         7\n",
       "December   12123.92        11\n",
       "February   20512.60         1\n",
       "January    14104.47         0"
      ]
     },
     "execution_count": 107,
     "metadata": {},
     "output_type": "execute_result"
    }
   ],
   "source": [
    "df_metricFM['Month_id'] = df_metricFM.index\n",
    "df_metricFM['Month_id'] = df_metricFM['Month_id'].map(sorterIndex)"
   ]
  },
  {
   "cell_type": "code",
   "execution_count": 108,
   "metadata": {},
   "outputs": [
    {
     "data": {
      "text/html": [
       "<div>\n",
       "<style scoped>\n",
       "    .dataframe tbody tr th:only-of-type {\n",
       "        vertical-align: middle;\n",
       "    }\n",
       "\n",
       "    .dataframe tbody tr th {\n",
       "        vertical-align: top;\n",
       "    }\n",
       "\n",
       "    .dataframe thead th {\n",
       "        text-align: right;\n",
       "    }\n",
       "</style>\n",
       "<table border=\"1\" class=\"dataframe\">\n",
       "  <thead>\n",
       "    <tr style=\"text-align: right;\">\n",
       "      <th></th>\n",
       "      <th>amt</th>\n",
       "      <th>Month_id</th>\n",
       "    </tr>\n",
       "    <tr>\n",
       "      <th>monthname</th>\n",
       "      <th></th>\n",
       "      <th></th>\n",
       "    </tr>\n",
       "  </thead>\n",
       "  <tbody>\n",
       "    <tr>\n",
       "      <th>January</th>\n",
       "      <td>14104.47</td>\n",
       "      <td>0</td>\n",
       "    </tr>\n",
       "    <tr>\n",
       "      <th>February</th>\n",
       "      <td>20512.60</td>\n",
       "      <td>1</td>\n",
       "    </tr>\n",
       "    <tr>\n",
       "      <th>March</th>\n",
       "      <td>17922.85</td>\n",
       "      <td>2</td>\n",
       "    </tr>\n",
       "    <tr>\n",
       "      <th>April</th>\n",
       "      <td>11601.45</td>\n",
       "      <td>3</td>\n",
       "    </tr>\n",
       "    <tr>\n",
       "      <th>May</th>\n",
       "      <td>15662.34</td>\n",
       "      <td>4</td>\n",
       "    </tr>\n",
       "  </tbody>\n",
       "</table>\n",
       "</div>"
      ],
      "text/plain": [
       "                amt  Month_id\n",
       "monthname                    \n",
       "January    14104.47         0\n",
       "February   20512.60         1\n",
       "March      17922.85         2\n",
       "April      11601.45         3\n",
       "May        15662.34         4"
      ]
     },
     "execution_count": 108,
     "metadata": {},
     "output_type": "execute_result"
    }
   ],
   "source": [
    "df_metricFM.sort_values('Month_id',inplace=True)\n",
    "df_metricFM.head()"
   ]
  },
  {
   "cell_type": "code",
   "execution_count": 109,
   "metadata": {},
   "outputs": [
    {
     "data": {
      "text/plain": [
       "monthname\n",
       "January       0\n",
       "February      1\n",
       "March         2\n",
       "April         3\n",
       "May           4\n",
       "June          5\n",
       "July          6\n",
       "August        7\n",
       "September     8\n",
       "October       9\n",
       "November     10\n",
       "December     11\n",
       "Name: Month_id, dtype: int64"
      ]
     },
     "execution_count": 109,
     "metadata": {},
     "output_type": "execute_result"
    }
   ],
   "source": [
    "df_metricFM.pop('Month_id')"
   ]
  },
  {
   "cell_type": "code",
   "execution_count": 110,
   "metadata": {},
   "outputs": [
    {
     "data": {
      "text/html": [
       "<div>\n",
       "<style scoped>\n",
       "    .dataframe tbody tr th:only-of-type {\n",
       "        vertical-align: middle;\n",
       "    }\n",
       "\n",
       "    .dataframe tbody tr th {\n",
       "        vertical-align: top;\n",
       "    }\n",
       "\n",
       "    .dataframe thead th {\n",
       "        text-align: right;\n",
       "    }\n",
       "</style>\n",
       "<table border=\"1\" class=\"dataframe\">\n",
       "  <thead>\n",
       "    <tr style=\"text-align: right;\">\n",
       "      <th></th>\n",
       "      <th>amt</th>\n",
       "    </tr>\n",
       "    <tr>\n",
       "      <th>monthname</th>\n",
       "      <th></th>\n",
       "    </tr>\n",
       "  </thead>\n",
       "  <tbody>\n",
       "    <tr>\n",
       "      <th>January</th>\n",
       "      <td>14104.47</td>\n",
       "    </tr>\n",
       "    <tr>\n",
       "      <th>February</th>\n",
       "      <td>20512.60</td>\n",
       "    </tr>\n",
       "    <tr>\n",
       "      <th>March</th>\n",
       "      <td>17922.85</td>\n",
       "    </tr>\n",
       "    <tr>\n",
       "      <th>April</th>\n",
       "      <td>11601.45</td>\n",
       "    </tr>\n",
       "    <tr>\n",
       "      <th>May</th>\n",
       "      <td>15662.34</td>\n",
       "    </tr>\n",
       "  </tbody>\n",
       "</table>\n",
       "</div>"
      ],
      "text/plain": [
       "                amt\n",
       "monthname          \n",
       "January    14104.47\n",
       "February   20512.60\n",
       "March      17922.85\n",
       "April      11601.45\n",
       "May        15662.34"
      ]
     },
     "execution_count": 110,
     "metadata": {},
     "output_type": "execute_result"
    }
   ],
   "source": [
    "df_metricFM.head()"
   ]
  },
  {
   "cell_type": "code",
   "execution_count": 118,
   "metadata": {},
   "outputs": [
    {
     "data": {
      "image/png": "[encoded data removed]",
      "text/plain": [
       "<Figure size 936x720 with 1 Axes>"
      ]
     },
     "metadata": {
      "needs_background": "light"
     },
     "output_type": "display_data"
    }
   ],
   "source": [
    "#Amount of fraud by month\n",
    "\n",
    "df_metricFM.plot(kind='line',color='red')\n",
    "\n",
    "plt.xlabel('Month')\n",
    "plt.ylabel('Fraud Transactions')\n",
    "plt.title('Fraud Transactions by Month')\n",
    "plt.xticks(np.arange(12),sorter)\n",
    "plt.rcParams['figure.figsize'] = [20, 10]"
   ]
  }
 ],
 "metadata": {
  "kernelspec": {
   "display_name": "Python 3",
   "language": "python",
   "name": "python3"
  },
  "language_info": {
   "codemirror_mode": {
    "name": "ipython",
    "version": 3
   },
   "file_extension": ".py",
   "mimetype": "text/x-python",
   "name": "python",
   "nbconvert_exporter": "python",
   "pygments_lexer": "ipython3",
   "version": "3.7.6"
  }
 },
 "nbformat": 4,
 "nbformat_minor": 4
}
